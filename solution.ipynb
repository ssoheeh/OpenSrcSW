{
 "cells": [
  {
   "cell_type": "code",
   "execution_count": 5,
   "id": "0c6969af",
   "metadata": {},
   "outputs": [
    {
     "name": "stdout",
     "output_type": "stream",
     "text": [
      "( 1 , 2 )\n",
      "( 3 , 4 )\n",
      "( 4 , 6 )\n"
     ]
    }
   ],
   "source": [
    "class Point:\n",
    "    def __init__(self, a,b):\n",
    "        self.x = a\n",
    "        self.y = b\n",
    "    def __add__(self,a):\n",
    "        return Point(self.x+a.x,self.y+a.y)\n",
    "    def show(self):\n",
    "        print(\"(\",self.x,\",\",self.y,\")\")\n",
    "\n",
    "a = Point(1,2)\n",
    "a.show()\n",
    "\n",
    "b = Point(3,4)\n",
    "b.show()\n",
    "\n",
    "a = a+b\n",
    "a.show()"
   ]
  },
  {
   "cell_type": "code",
   "execution_count": 30,
   "id": "0731fc62",
   "metadata": {},
   "outputs": [
    {
     "name": "stdout",
     "output_type": "stream",
     "text": [
      "Max Week = 5/8 ~ 5/14\n"
     ]
    }
   ],
   "source": [
    "#_*_ coding: cp949 _*_\n",
    "import csv\n",
    "f = open('seoul.csv','r',encoding='cp949')\n",
    "data = csv.reader(f)\n",
    "next(data)\n",
    "max_week = ''\n",
    "max_sum = 0\n",
    "max_week_num = 0\n",
    "temp_diff = 0\n",
    "i = 1\n",
    "j = 1\n",
    "for row in data:\n",
    "    if i==7:\n",
    "        if max_sum<temp_diff:\n",
    "            max_week_num = j\n",
    "            max_sum = temp_diff\n",
    "        j = j+1\n",
    "        i = 0\n",
    "        temp_diff = 0\n",
    "    else:\n",
    "        temp_diff = temp_diff+float(row[-1])-float(row[-2])\n",
    "        i = i+1\n",
    "    if j==5:\n",
    "        temp_diff = temp_diff+float(row[-1])-float(row[-2])\n",
    "        i = i+1\n",
    "if max_week_num==1:\n",
    "    print(\"Max Week = 5/1 ~ 5/7\")\n",
    "elif max_week_num==2:\n",
    "    print(\"Max Week = 5/8 ~ 5/14\")\n",
    "elif max_week_num==3:\n",
    "    print(\"Max Week = 5/15 ~ 5/21\")\n",
    "elif max_week_num==4:\n",
    "    print(\"Max Week = 5/22 ~ 5/28\")\n",
    "if max_sum<temp_diff:\n",
    "    print(\"Max Week = 5/29 ~ 5/31\")\n",
    "f.close()"
   ]
  },
  {
   "cell_type": "code",
   "execution_count": 54,
   "id": "b58eefff",
   "metadata": {},
   "outputs": [
    {
     "data": {
      "image/png": "[encoded data removed]",
      "text/plain": [
       "<Figure size 432x288 with 1 Axes>"
      ]
     },
     "metadata": {
      "needs_background": "light"
     },
     "output_type": "display_data"
    }
   ],
   "source": [
    "import numpy as np\n",
    "import math\n",
    "import matplotlib.pyplot as plt\n",
    "docs = np.array([1,1,0,1,0,1,1,1,1,0,1,0,1,1,0,1,0,0]).reshape(3,6)\n",
    "q = np.array([1,1,0,0,1,0])\n",
    "dot_result = np.dot(docs,q)\n",
    "size1 = 2*math.sqrt(3)\n",
    "size2 = 3\n",
    "plt.title('Cosine similarities')\n",
    "plt.bar([1,2,3],[dot_result[0]/size1,dot_result[1]/size1,dot_result[2]/size2])\n",
    "plt.show()"
   ]
  },
  {
   "cell_type": "code",
   "execution_count": null,
   "id": "ac5d7030",
   "metadata": {},
   "outputs": [],
   "source": []
  }
 ],
 "metadata": {
  "kernelspec": {
   "display_name": "Python 3",
   "language": "python",
   "name": "python3"
  },
  "language_info": {
   "codemirror_mode": {
    "name": "ipython",
    "version": 3
   },
   "file_extension": ".py",
   "mimetype": "text/x-python",
   "name": "python",
   "nbconvert_exporter": "python",
   "pygments_lexer": "ipython3",
   "version": "3.8.3rc1"
  }
 },
 "nbformat": 4,
 "nbformat_minor": 5
}
