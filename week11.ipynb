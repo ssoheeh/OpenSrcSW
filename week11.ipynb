{
 "cells": [
  {
   "cell_type": "code",
   "execution_count": 5,
   "id": "b390b274",
   "metadata": {},
   "outputs": [
    {
     "name": "stdout",
     "output_type": "stream",
     "text": [
      "cp file1.txt file2.txt\n"
     ]
    }
   ],
   "source": [
    "userinput=input()\n",
    "str=userinput.split()\n",
    "if(str[0]==\"cp\"):\n",
    "    fs=open(str[1],'r')\n",
    "    data=fs.read()\n",
    "    ft=open(str[2],'w')\n",
    "    ft.write(data)\n",
    "    fs.close()\n",
    "    ft.close()"
   ]
  },
  {
   "cell_type": "code",
   "execution_count": 6,
   "id": "cb2b6ba5",
   "metadata": {},
   "outputs": [
    {
     "name": "stdout",
     "output_type": "stream",
     "text": [
      "wc file1.txt\n",
      "Number of lines :  2\n",
      "Number of words :  3\n"
     ]
    }
   ],
   "source": [
    "userinput=input()\n",
    "str=userinput.split()\n",
    "if(str[0]==\"wc\"):\n",
    "    f=open(str[1],'r')\n",
    "    linenum=0\n",
    "    wordnum=0\n",
    "    for line in f:\n",
    "        linenum=linenum+1\n",
    "        line=line.replace('\\n','')\n",
    "        words=line.split()\n",
    "        wordnum=wordnum+len(words)\n",
    "    \n",
    "    print(\"Number of lines : \",linenum)\n",
    "    print(\"Number of words : \",wordnum)\n",
    "    f.close()"
   ]
  },
  {
   "cell_type": "code",
   "execution_count": 2,
   "id": "e8f9e138",
   "metadata": {},
   "outputs": [
    {
     "name": "stdout",
     "output_type": "stream",
     "text": [
      "1 + 2 = 3 입니다.\n",
      "5 - 1 = 4 입니다.\n",
      "2 * 3 = 6 입니다.\n",
      "6 / 2 = 3.0 입니다.\n"
     ]
    }
   ],
   "source": [
    "# _*_ coding: cp949 _*_\n",
    "class Calc:\n",
    "    def sum(self, a, b):\n",
    "        result = a + b\n",
    "        print(\"{0:d} + {1:d} = {2:d} 입니다.\" .format(a, b, result))\n",
    "    def sub(self, a, b):\n",
    "        result = a - b\n",
    "        print(\"{0:d} - {1:d} = {2:d} 입니다.\" .format(a, b, result))\n",
    "    def multi(self, a, b):\n",
    "        result = a * b\n",
    "        print(\"{0:d} * {1:d} = {2:d} 입니다.\" .format(a, b, result))\n",
    "    def divi(self, a, b):\n",
    "        result = a / b\n",
    "        print(\"{0:d} / {1:d} = {2:.1f} 입니다.\" .format(a, b, result))\n",
    "        \n",
    "calc = Calc()\n",
    "calc.sum(1, 2)\n",
    "calc.sub(5, 1)\n",
    "calc.multi(2, 3)\n",
    "calc.divi(6, 2)"
   ]
  },
  {
   "cell_type": "code",
   "execution_count": 4,
   "id": "78ae419a",
   "metadata": {},
   "outputs": [
    {
     "name": "stdout",
     "output_type": "stream",
     "text": [
      "수식을 입력하세요 : 1 + 2 - 3 * 4 + 5\n",
      "1+2-3*4+5 = -4\n"
     ]
    }
   ],
   "source": [
    "# _*_ coding: cp949 _*_\n",
    "\n",
    "#stack class 구현\n",
    "class Stack:\n",
    "    topidx = -1\n",
    "    \n",
    "    def __init__(self):\n",
    "        self.st = []\n",
    "    def push(self, a):\n",
    "        self.topidx += 1\n",
    "        self.st.append(a)\n",
    "    def pop(self):\n",
    "        if(len(self.st) == 0):\n",
    "            return None\n",
    "        else:\n",
    "            self.topidx -= 1\n",
    "            return self.st.pop()\n",
    "    def top(self):\n",
    "        if(len(self.st) == 0):\n",
    "            return None\n",
    "        else:\n",
    "            return self.st[self.topidx]\n",
    "    def isEmpty(self):\n",
    "        return (len(self.st) == 0)\n",
    "\n",
    "#계산 함수 'calc'\n",
    "def calc(a, b, op):\n",
    "    if(op == '+'): return a + b\n",
    "    elif(op == '-'): return b - a\n",
    "    elif(op == '*'): return a * b\n",
    "    elif(op == '/'): return b / a\n",
    "\n",
    "#main 함수\n",
    "str = input(\"수식을 입력하세요 : \")\n",
    "numstack = Stack()\n",
    "opstack = Stack()\n",
    "token = str.split()\n",
    "for ch in token:\n",
    "    if(ch == '*' or ch == '/'):\n",
    "        if(opstack.top() == '*' or opstack.top() == '/'):\n",
    "            tempop = opstack.pop()\n",
    "            tempnum = calc(numstack.pop(), numstack.pop(), tempop)\n",
    "            numstack.push(tempnum)\n",
    "            opstack.push(ch)\n",
    "        else:\n",
    "            opstack.push(ch)\n",
    "    elif(ch == '+' or ch == '-'):\n",
    "        if(opstack.isEmpty() or opstack.top() == '('):\n",
    "            opstack.push(ch)\n",
    "        else:\n",
    "            while(not(opstack.isEmpty() or opstack.top() == '(')):\n",
    "                tempop = opstack.pop()\n",
    "                tempnum = calc(numstack.pop(), numstack.pop(), tempop)\n",
    "                numstack.push(tempnum)\n",
    "            opstack.push(ch)\n",
    "    elif(ch == '('):\n",
    "        opstack.push(ch)\n",
    "    elif(ch == ')'):\n",
    "        while(1):\n",
    "            tempop = opstack.pop()\n",
    "            if(tempop == '('):\n",
    "                break\n",
    "            else:\n",
    "                tempnum = calc(numstack.pop(), numstack.pop(), tempop)\n",
    "                numstack.push(tempnum)\n",
    "    else:\n",
    "        numstack.push(int(ch))\n",
    "        \n",
    "if(not(opstack.isEmpty())):\n",
    "    tempop = opstack.pop()\n",
    "    tempnum = calc(numstack.pop(), numstack.pop(), tempop)\n",
    "    numstack.push(tempnum)\n",
    "    \n",
    "print(\"{0:s} = {1:d}\" .format(\"\".join(token), numstack.pop()))"
   ]
  },
  {
   "cell_type": "code",
   "execution_count": null,
   "id": "84bfca75",
   "metadata": {},
   "outputs": [],
   "source": []
  }
 ],
 "metadata": {
  "kernelspec": {
   "display_name": "Python 3",
   "language": "python",
   "name": "python3"
  },
  "language_info": {
   "codemirror_mode": {
    "name": "ipython",
    "version": 3
   },
   "file_extension": ".py",
   "mimetype": "text/x-python",
   "name": "python",
   "nbconvert_exporter": "python",
   "pygments_lexer": "ipython3",
   "version": "3.8.3rc1"
  }
 },
 "nbformat": 4,
 "nbformat_minor": 5
}
