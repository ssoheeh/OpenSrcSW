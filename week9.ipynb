{
 "cells": [
  {
   "cell_type": "code",
   "execution_count": 4,
   "id": "51979fa2",
   "metadata": {},
   "outputs": [
    {
     "name": "stdout",
     "output_type": "stream",
     "text": [
      "x값을 입력하세요:1\n",
      "y= 11\n"
     ]
    }
   ],
   "source": [
    "x = (int)(input(\"x값을 입력하세요:\"))\n",
    "y = 3*x*x+5*x+3\n",
    "print(\"y =\",y)"
   ]
  },
  {
   "cell_type": "code",
   "execution_count": 8,
   "id": "21d890ab",
   "metadata": {},
   "outputs": [
    {
     "name": "stdout",
     "output_type": "stream",
     "text": [
      "반지름의 값을 입력하세요:1.5\n",
      "원의 넓이는 7.065\n"
     ]
    }
   ],
   "source": [
    "r = (float)(input(\"반지름의 값을 입력하세요:\"))\n",
    "print(\"원의 넓이는\", r*r*3.14)"
   ]
  },
  {
   "cell_type": "code",
   "execution_count": null,
   "id": "2970a335",
   "metadata": {},
   "outputs": [],
   "source": []
  }
 ],
 "metadata": {
  "kernelspec": {
   "display_name": "Python 3",
   "language": "python",
   "name": "python3"
  },
  "language_info": {
   "codemirror_mode": {
    "name": "ipython",
    "version": 3
   },
   "file_extension": ".py",
   "mimetype": "text/x-python",
   "name": "python",
   "nbconvert_exporter": "python",
   "pygments_lexer": "ipython3",
   "version": "3.8.3rc1"
  }
 },
 "nbformat": 4,
 "nbformat_minor": 5
}
