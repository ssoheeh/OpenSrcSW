{
 "cells": [
  {
   "cell_type": "code",
   "execution_count": 14,
   "id": "adb552ba",
   "metadata": {},
   "outputs": [
    {
     "name": "stdout",
     "output_type": "stream",
     "text": [
      "Numbers?10 456 87 78\n",
      "Max =  456\n"
     ]
    }
   ],
   "source": [
    "nums = input((\"Numbers?\"))\n",
    "num = nums.split(\" \")\n",
    "list = map(int,num)\n",
    "print(\"Max = \",max(list))"
   ]
  },
  {
   "cell_type": "code",
   "execution_count": 34,
   "id": "ee2aa65c",
   "metadata": {},
   "outputs": [
    {
     "name": "stdout",
     "output_type": "stream",
     "text": [
      "암호화(1), 복호화(2)2\n",
      "input:efg bcd\n",
      "output:abc def\n"
     ]
    }
   ],
   "source": [
    "num = (int)(input(\"암호화(1), 복호화(2)\"))\n",
    "if(num==1):\n",
    "    s = (input(\"input:\"))\n",
    "    st = s.split(\" \")\n",
    "    x = st[0]\n",
    "    y = st[1]\n",
    "    s1 = \"\"\n",
    "    s2 = \"\"\n",
    "    for i in range(0,len(y),1):\n",
    "        s1 += chr(ord(y[i])+1)\n",
    "    for i in range(0,len(x),1):\n",
    "        s2 += chr(ord(x[i])+1)\n",
    "    print(\"output:\"+s1+\" \"+s2)\n",
    "if(num==2):\n",
    "    s = (input(\"input:\"))\n",
    "    st = s.split(\" \")\n",
    "    x = st[0]\n",
    "    y = st[1]\n",
    "    s1 = \"\"\n",
    "    s2 = \"\"\n",
    "    for i in range(0,len(y),1):\n",
    "        s1 += chr(ord(y[i])-1)\n",
    "    for i in range(0,len(x),1):\n",
    "        s2 += chr(ord(x[i])-1)\n",
    "    print(\"output:\"+s1+\" \"+s2)\n",
    "        "
   ]
  },
  {
   "cell_type": "code",
   "execution_count": 41,
   "id": "d357b7db",
   "metadata": {},
   "outputs": [
    {
     "name": "stdout",
     "output_type": "stream",
     "text": [
      "name:ㅁ\n",
      "tel:1\n",
      "name:ㅠ\n",
      "tel:2\n",
      "name:ㅊ\n",
      "tel:3\n",
      "name:ㅇ\n",
      "tel:4\n",
      "name:ㄷ\n",
      "tel:5\n",
      "name:ㄹ\n",
      "tel:6\n",
      "name:ㅎ\n",
      "tel:7\n",
      "name:ㅗ\n",
      "tel:8\n",
      "name:ㅑ\n",
      "tel:9\n",
      "name:ㅏ\n",
      "tel:10\n",
      "검색 이름(1), 전화번호(2):2\n",
      "전화번호:2\n",
      "ㅠ\n"
     ]
    }
   ],
   "source": [
    "tel = {}\n",
    "for i in range(10):\n",
    "    name = (input(\"name:\"))\n",
    "    num = (input(\"tel:\"))\n",
    "    tel[name] = num\n",
    "n = (int)(input(\"검색 이름(1), 전화번호(2):\"))\n",
    "if(n==1):\n",
    "    i = (input)(\"name:\")\n",
    "    print(\"전화번호:\"+tel[i])\n",
    "if(n==2):\n",
    "    i = (input)(\"전화번호:\")\n",
    "    for key,value in tel.items():\n",
    "        if(value==i):\n",
    "            print(\"name:\"+key)"
   ]
  },
  {
   "cell_type": "code",
   "execution_count": null,
   "id": "ff0061c5",
   "metadata": {},
   "outputs": [],
   "source": []
  }
 ],
 "metadata": {
  "kernelspec": {
   "display_name": "Python 3",
   "language": "python",
   "name": "python3"
  },
  "language_info": {
   "codemirror_mode": {
    "name": "ipython",
    "version": 3
   },
   "file_extension": ".py",
   "mimetype": "text/x-python",
   "name": "python",
   "nbconvert_exporter": "python",
   "pygments_lexer": "ipython3",
   "version": "3.8.3rc1"
  }
 },
 "nbformat": 4,
 "nbformat_minor": 5
}
